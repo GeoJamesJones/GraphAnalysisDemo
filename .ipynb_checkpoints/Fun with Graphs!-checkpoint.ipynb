{
 "cells": [
  {
   "cell_type": "code",
   "execution_count": 6,
   "metadata": {},
   "outputs": [
    {
     "name": "stdout",
     "output_type": "stream",
     "text": [
      "Collecting xlrd\n",
      "  Downloading https://files.pythonhosted.org/packages/07/e6/e95c4eec6221bfd8528bcc4ea252a850bffcc4be88ebc367e23a1a84b0bb/xlrd-1.1.0-py2.py3-none-any.whl (108kB)\n",
      "Installing collected packages: xlrd\n",
      "Successfully installed xlrd-1.1.0\n"
     ]
    },
    {
     "name": "stderr",
     "output_type": "stream",
     "text": [
      "botocore 1.10.50 requires docutils>=0.10, which is not installed.\n",
      "botocore 1.10.50 requires jmespath<1.0.0,>=0.7.1, which is not installed.\n",
      "awscli 1.15.51 requires docutils>=0.10, which is not installed.\n",
      "awscli 1.15.51 requires PyYAML<=3.12,>=3.10, which is not installed.\n",
      "awscli 1.15.51 requires rsa<=3.5.0,>=3.1.2, which is not installed.\n",
      "awscli 1.15.51 requires s3transfer<0.2.0,>=0.1.12, which is not installed.\n",
      "mkl-random 1.0.1 requires cython, which is not installed.\n",
      "awscli 1.15.51 has requirement colorama<=0.3.9,>=0.2.5, but you'll have colorama 0.4.0 which is incompatible.\n",
      "You are using pip version 10.0.1, however version 18.1 is available.\n",
      "You should consider upgrading via the 'python -m pip install --upgrade pip' command.\n"
     ]
    }
   ],
   "source": [
    "import sys\n",
    "!{sys.executable} -m pip install xlrd"
   ]
  },
  {
   "cell_type": "code",
   "execution_count": 20,
   "metadata": {},
   "outputs": [],
   "source": [
    "import networkx as nx\n",
    "import pandas as pd\n",
    "import matplotlib.pyplot as plt\n",
    "import math"
   ]
  },
  {
   "cell_type": "code",
   "execution_count": 4,
   "metadata": {},
   "outputs": [],
   "source": [
    "inbox_file = r'C:\\Users\\jame9353\\Documents\\GitHub\\GraphAnalysisDemo\\InboxExport\\Inbox.xlsx'"
   ]
  },
  {
   "cell_type": "code",
   "execution_count": 7,
   "metadata": {},
   "outputs": [],
   "source": [
    "df = pd.read_excel(inbox_file)"
   ]
  },
  {
   "cell_type": "code",
   "execution_count": 10,
   "metadata": {},
   "outputs": [
    {
     "data": {
      "text/html": [
       "<div>\n",
       "<style scoped>\n",
       "    .dataframe tbody tr th:only-of-type {\n",
       "        vertical-align: middle;\n",
       "    }\n",
       "\n",
       "    .dataframe tbody tr th {\n",
       "        vertical-align: top;\n",
       "    }\n",
       "\n",
       "    .dataframe thead th {\n",
       "        text-align: right;\n",
       "    }\n",
       "</style>\n",
       "<table border=\"1\" class=\"dataframe\">\n",
       "  <thead>\n",
       "    <tr style=\"text-align: right;\">\n",
       "      <th></th>\n",
       "      <th>Subject</th>\n",
       "      <th>Body</th>\n",
       "      <th>From: (Name)</th>\n",
       "      <th>From: (Address)</th>\n",
       "      <th>From: (Type)</th>\n",
       "      <th>To: (Name)</th>\n",
       "      <th>To: (Address)</th>\n",
       "      <th>To: (Type)</th>\n",
       "      <th>CC: (Name)</th>\n",
       "      <th>CC: (Address)</th>\n",
       "      <th>...</th>\n",
       "      <th>Categories</th>\n",
       "      <th>Importance</th>\n",
       "      <th>Mileage</th>\n",
       "      <th>Sensitivity</th>\n",
       "      <th>Unnamed: 19</th>\n",
       "      <th>Unnamed: 20</th>\n",
       "      <th>Unnamed: 21</th>\n",
       "      <th>Unnamed: 22</th>\n",
       "      <th>Unnamed: 23</th>\n",
       "      <th>Unnamed: 24</th>\n",
       "    </tr>\n",
       "  </thead>\n",
       "  <tbody>\n",
       "    <tr>\n",
       "      <th>0</th>\n",
       "      <td>Assistance with EDGE Presentation</td>\n",
       "      <td>Hi everyone,\\r\\n\\r\\n \\r\\n\\r\\nWould anyone be a...</td>\n",
       "      <td>Erin Trautner</td>\n",
       "      <td>/O=ESRI/OU=WASHDC/CN=RECIPIENTS/CN=ETRAUTNER</td>\n",
       "      <td>EX</td>\n",
       "      <td>national-government-se</td>\n",
       "      <td>/o=ESRI/ou=Exchange Administrative Group (FYDI...</td>\n",
       "      <td>EX</td>\n",
       "      <td>NaN</td>\n",
       "      <td>NaN</td>\n",
       "      <td>...</td>\n",
       "      <td>NaN</td>\n",
       "      <td>Normal</td>\n",
       "      <td>NaN</td>\n",
       "      <td>Normal</td>\n",
       "      <td>NaN</td>\n",
       "      <td>NaN</td>\n",
       "      <td>NaN</td>\n",
       "      <td>NaN</td>\n",
       "      <td>NaN</td>\n",
       "      <td>NaN</td>\n",
       "    </tr>\n",
       "    <tr>\n",
       "      <th>1</th>\n",
       "      <td>FW: REAL ID Compliance enforcement and impacts...</td>\n",
       "      <td>Good morning team,\\r\\n\\r\\n \\r\\n\\r\\nJust wanted...</td>\n",
       "      <td>Erin Trautner</td>\n",
       "      <td>/O=ESRI/OU=WASHDC/CN=RECIPIENTS/CN=ETRAUTNER</td>\n",
       "      <td>EX</td>\n",
       "      <td>national-government-se</td>\n",
       "      <td>/o=ESRI/ou=Exchange Administrative Group (FYDI...</td>\n",
       "      <td>EX</td>\n",
       "      <td>NaN</td>\n",
       "      <td>NaN</td>\n",
       "      <td>...</td>\n",
       "      <td>NaN</td>\n",
       "      <td>High</td>\n",
       "      <td>NaN</td>\n",
       "      <td>Normal</td>\n",
       "      <td>NaN</td>\n",
       "      <td>NaN</td>\n",
       "      <td>NaN</td>\n",
       "      <td>NaN</td>\n",
       "      <td>NaN</td>\n",
       "      <td>NaN</td>\n",
       "    </tr>\n",
       "    <tr>\n",
       "      <th>2</th>\n",
       "      <td>FW: Next EDGE: Stories from Esri's Response to...</td>\n",
       "      <td>Hi James,\\r\\n\\r\\n \\r\\n\\r\\nHere is the email I ...</td>\n",
       "      <td>Eileen Seifert</td>\n",
       "      <td>/O=ESRI/OU=EXCHANGE ADMINISTRATIVE GROUP (FYDI...</td>\n",
       "      <td>EX</td>\n",
       "      <td>James Jones</td>\n",
       "      <td>/o=ESRI/ou=Exchange Administrative Group (FYDI...</td>\n",
       "      <td>EX</td>\n",
       "      <td>NaN</td>\n",
       "      <td>NaN</td>\n",
       "      <td>...</td>\n",
       "      <td>NaN</td>\n",
       "      <td>Normal</td>\n",
       "      <td>NaN</td>\n",
       "      <td>Normal</td>\n",
       "      <td>NaN</td>\n",
       "      <td>NaN</td>\n",
       "      <td>NaN</td>\n",
       "      <td>NaN</td>\n",
       "      <td>NaN</td>\n",
       "      <td>NaN</td>\n",
       "    </tr>\n",
       "    <tr>\n",
       "      <th>3</th>\n",
       "      <td>Learning Plan Updates: James Jones</td>\n",
       "      <td>Hello James,  \\r\\n \\r\\nUpdates have been made ...</td>\n",
       "      <td>LMSAdmin@esri.com</td>\n",
       "      <td>LMSAdmin@esri.com</td>\n",
       "      <td>SMTP</td>\n",
       "      <td>James Jones</td>\n",
       "      <td>/o=ESRI/ou=Exchange Administrative Group (FYDI...</td>\n",
       "      <td>EX</td>\n",
       "      <td>NaN</td>\n",
       "      <td>NaN</td>\n",
       "      <td>...</td>\n",
       "      <td>NaN</td>\n",
       "      <td>Normal</td>\n",
       "      <td>NaN</td>\n",
       "      <td>Normal</td>\n",
       "      <td>NaN</td>\n",
       "      <td>NaN</td>\n",
       "      <td>NaN</td>\n",
       "      <td>NaN</td>\n",
       "      <td>NaN</td>\n",
       "      <td>NaN</td>\n",
       "    </tr>\n",
       "    <tr>\n",
       "      <th>4</th>\n",
       "      <td>Eileen Seifert has added you to a collaborated...</td>\n",
       "      <td>Eileen Seifert has added you to a folder: \\t\\r...</td>\n",
       "      <td>ESeifert@esri.com</td>\n",
       "      <td>ESeifert@esri.com</td>\n",
       "      <td>SMTP</td>\n",
       "      <td>James Jones</td>\n",
       "      <td>/o=ESRI/ou=Exchange Administrative Group (FYDI...</td>\n",
       "      <td>EX</td>\n",
       "      <td>NaN</td>\n",
       "      <td>NaN</td>\n",
       "      <td>...</td>\n",
       "      <td>NaN</td>\n",
       "      <td>Normal</td>\n",
       "      <td>NaN</td>\n",
       "      <td>Normal</td>\n",
       "      <td>NaN</td>\n",
       "      <td>NaN</td>\n",
       "      <td>NaN</td>\n",
       "      <td>NaN</td>\n",
       "      <td>NaN</td>\n",
       "      <td>NaN</td>\n",
       "    </tr>\n",
       "  </tbody>\n",
       "</table>\n",
       "<p>5 rows × 25 columns</p>\n",
       "</div>"
      ],
      "text/plain": [
       "                                             Subject  \\\n",
       "0                  Assistance with EDGE Presentation   \n",
       "1  FW: REAL ID Compliance enforcement and impacts...   \n",
       "2  FW: Next EDGE: Stories from Esri's Response to...   \n",
       "3                 Learning Plan Updates: James Jones   \n",
       "4  Eileen Seifert has added you to a collaborated...   \n",
       "\n",
       "                                                Body       From: (Name)  \\\n",
       "0  Hi everyone,\\r\\n\\r\\n \\r\\n\\r\\nWould anyone be a...      Erin Trautner   \n",
       "1  Good morning team,\\r\\n\\r\\n \\r\\n\\r\\nJust wanted...      Erin Trautner   \n",
       "2  Hi James,\\r\\n\\r\\n \\r\\n\\r\\nHere is the email I ...     Eileen Seifert   \n",
       "3  Hello James,  \\r\\n \\r\\nUpdates have been made ...  LMSAdmin@esri.com   \n",
       "4  Eileen Seifert has added you to a folder: \\t\\r...  ESeifert@esri.com   \n",
       "\n",
       "                                     From: (Address) From: (Type)  \\\n",
       "0       /O=ESRI/OU=WASHDC/CN=RECIPIENTS/CN=ETRAUTNER           EX   \n",
       "1       /O=ESRI/OU=WASHDC/CN=RECIPIENTS/CN=ETRAUTNER           EX   \n",
       "2  /O=ESRI/OU=EXCHANGE ADMINISTRATIVE GROUP (FYDI...           EX   \n",
       "3                                  LMSAdmin@esri.com         SMTP   \n",
       "4                                  ESeifert@esri.com         SMTP   \n",
       "\n",
       "               To: (Name)                                      To: (Address)  \\\n",
       "0  national-government-se  /o=ESRI/ou=Exchange Administrative Group (FYDI...   \n",
       "1  national-government-se  /o=ESRI/ou=Exchange Administrative Group (FYDI...   \n",
       "2             James Jones  /o=ESRI/ou=Exchange Administrative Group (FYDI...   \n",
       "3             James Jones  /o=ESRI/ou=Exchange Administrative Group (FYDI...   \n",
       "4             James Jones  /o=ESRI/ou=Exchange Administrative Group (FYDI...   \n",
       "\n",
       "  To: (Type) CC: (Name) CC: (Address)     ...     Categories Importance  \\\n",
       "0         EX        NaN           NaN     ...            NaN     Normal   \n",
       "1         EX        NaN           NaN     ...            NaN       High   \n",
       "2         EX        NaN           NaN     ...            NaN     Normal   \n",
       "3         EX        NaN           NaN     ...            NaN     Normal   \n",
       "4         EX        NaN           NaN     ...            NaN     Normal   \n",
       "\n",
       "  Mileage Sensitivity Unnamed: 19 Unnamed: 20 Unnamed: 21 Unnamed: 22  \\\n",
       "0     NaN      Normal         NaN         NaN         NaN         NaN   \n",
       "1     NaN      Normal         NaN         NaN         NaN         NaN   \n",
       "2     NaN      Normal         NaN         NaN         NaN         NaN   \n",
       "3     NaN      Normal         NaN         NaN         NaN         NaN   \n",
       "4     NaN      Normal         NaN         NaN         NaN         NaN   \n",
       "\n",
       "  Unnamed: 23 Unnamed: 24  \n",
       "0         NaN         NaN  \n",
       "1         NaN         NaN  \n",
       "2         NaN         NaN  \n",
       "3         NaN         NaN  \n",
       "4         NaN         NaN  \n",
       "\n",
       "[5 rows x 25 columns]"
      ]
     },
     "execution_count": 10,
     "metadata": {},
     "output_type": "execute_result"
    }
   ],
   "source": [
    "df.head()"
   ]
  },
  {
   "cell_type": "code",
   "execution_count": 11,
   "metadata": {},
   "outputs": [
    {
     "data": {
      "text/plain": [
       "(12894, 25)"
      ]
     },
     "execution_count": 11,
     "metadata": {},
     "output_type": "execute_result"
    }
   ],
   "source": [
    "df.shape"
   ]
  },
  {
   "cell_type": "code",
   "execution_count": 32,
   "metadata": {},
   "outputs": [],
   "source": [
    "G = nx.MultiDiGraph()\n",
    "edges = G.edges(keys=True)"
   ]
  },
  {
   "cell_type": "code",
   "execution_count": 33,
   "metadata": {},
   "outputs": [],
   "source": [
    "for row in df.iterrows():\n",
    "    sender = row[1]['From: (Name)']\n",
    "    try:\n",
    "        for person in row[1]['To: (Name)'].split(\";\"):\n",
    "            if person != 'James Jones':\n",
    "                G.add_edge(sender, person, sent_type='To')\n",
    "    except: \n",
    "        pass\n",
    "        \n",
    "    try:\n",
    "        for cc in row[1]['CC: (Name)'].split(\";\"):\n",
    "            if cc != 'James Jones':\n",
    "                G.add_edge(sender, cc, sent_type='CC')\n",
    "    except:\n",
    "        pass\n",
    "    \n",
    "    try:\n",
    "        for bcc in row[1]['BCC: (Name)'].split(\";\"):\n",
    "            if bcc != 'James Jones':\n",
    "                G.add_edge(sender, bcc, sent_type='BCC')\n",
    "    except:\n",
    "        pass"
   ]
  },
  {
   "cell_type": "code",
   "execution_count": 34,
   "metadata": {},
   "outputs": [
    {
     "name": "stdout",
     "output_type": "stream",
     "text": [
      "Total number of nodes in multi graph:  2016\n",
      "Total number of edges in multi graph:  24254\n"
     ]
    }
   ],
   "source": [
    "print(\"Total number of nodes in multi graph:  \" + repr(len(G.nodes)))\n",
    "print(\"Total number of edges in multi graph:  \" + repr(len(G.edges)))"
   ]
  },
  {
   "cell_type": "code",
   "execution_count": 35,
   "metadata": {},
   "outputs": [
    {
     "name": "stdout",
     "output_type": "stream",
     "text": [
      "Graph density:  0.005970597502855567\n"
     ]
    }
   ],
   "source": [
    "graph_density = nx.density(G)\n",
    "print(\"Graph density:  \" + repr(graph_density))"
   ]
  },
  {
   "cell_type": "code",
   "execution_count": null,
   "metadata": {},
   "outputs": [],
   "source": []
  }
 ],
 "metadata": {
  "kernelspec": {
   "display_name": "Python 3",
   "language": "python",
   "name": "python3"
  },
  "language_info": {
   "codemirror_mode": {
    "name": "ipython",
    "version": 3
   },
   "file_extension": ".py",
   "mimetype": "text/x-python",
   "name": "python",
   "nbconvert_exporter": "python",
   "pygments_lexer": "ipython3",
   "version": "3.6.5"
  }
 },
 "nbformat": 4,
 "nbformat_minor": 2
}
