{
 "cells": [
  {
   "cell_type": "code",
   "execution_count": 1,
   "metadata": {},
   "outputs": [],
   "source": [
    "import networkx as nx\n",
    "import pandas as pd\n",
    "import matplotlib.pyplot as plt"
   ]
  },
  {
   "cell_type": "code",
   "execution_count": 52,
   "metadata": {},
   "outputs": [],
   "source": [
    "inbox_file = r'InboxExport/Inbox.xlsx'"
   ]
  },
  {
   "cell_type": "code",
   "execution_count": 3,
   "metadata": {},
   "outputs": [],
   "source": [
    "df = pd.read_excel(inbox_file)"
   ]
  },
  {
   "cell_type": "code",
   "execution_count": 4,
   "metadata": {},
   "outputs": [
    {
     "data": {
      "text/html": [
       "<div>\n",
       "<style scoped>\n",
       "    .dataframe tbody tr th:only-of-type {\n",
       "        vertical-align: middle;\n",
       "    }\n",
       "\n",
       "    .dataframe tbody tr th {\n",
       "        vertical-align: top;\n",
       "    }\n",
       "\n",
       "    .dataframe thead th {\n",
       "        text-align: right;\n",
       "    }\n",
       "</style>\n",
       "<table border=\"1\" class=\"dataframe\">\n",
       "  <thead>\n",
       "    <tr style=\"text-align: right;\">\n",
       "      <th></th>\n",
       "      <th>Subject</th>\n",
       "      <th>Body</th>\n",
       "      <th>From: (Name)</th>\n",
       "      <th>From: (Address)</th>\n",
       "      <th>From: (Type)</th>\n",
       "      <th>To: (Name)</th>\n",
       "      <th>To: (Address)</th>\n",
       "      <th>To: (Type)</th>\n",
       "      <th>CC: (Name)</th>\n",
       "      <th>CC: (Address)</th>\n",
       "      <th>...</th>\n",
       "      <th>Categories</th>\n",
       "      <th>Importance</th>\n",
       "      <th>Mileage</th>\n",
       "      <th>Sensitivity</th>\n",
       "      <th>Unnamed: 19</th>\n",
       "      <th>Unnamed: 20</th>\n",
       "      <th>Unnamed: 21</th>\n",
       "      <th>Unnamed: 22</th>\n",
       "      <th>Unnamed: 23</th>\n",
       "      <th>Unnamed: 24</th>\n",
       "    </tr>\n",
       "  </thead>\n",
       "  <tbody>\n",
       "    <tr>\n",
       "      <th>0</th>\n",
       "      <td>Assistance with EDGE Presentation</td>\n",
       "      <td>Hi everyone,\\r\\n\\r\\n \\r\\n\\r\\nWould anyone be a...</td>\n",
       "      <td>Erin Trautner</td>\n",
       "      <td>/O=ESRI/OU=WASHDC/CN=RECIPIENTS/CN=ETRAUTNER</td>\n",
       "      <td>EX</td>\n",
       "      <td>national-government-se</td>\n",
       "      <td>/o=ESRI/ou=Exchange Administrative Group (FYDI...</td>\n",
       "      <td>EX</td>\n",
       "      <td>NaN</td>\n",
       "      <td>NaN</td>\n",
       "      <td>...</td>\n",
       "      <td>NaN</td>\n",
       "      <td>Normal</td>\n",
       "      <td>NaN</td>\n",
       "      <td>Normal</td>\n",
       "      <td>NaN</td>\n",
       "      <td>NaN</td>\n",
       "      <td>NaN</td>\n",
       "      <td>NaN</td>\n",
       "      <td>NaN</td>\n",
       "      <td>NaN</td>\n",
       "    </tr>\n",
       "    <tr>\n",
       "      <th>1</th>\n",
       "      <td>FW: REAL ID Compliance enforcement and impacts...</td>\n",
       "      <td>Good morning team,\\r\\n\\r\\n \\r\\n\\r\\nJust wanted...</td>\n",
       "      <td>Erin Trautner</td>\n",
       "      <td>/O=ESRI/OU=WASHDC/CN=RECIPIENTS/CN=ETRAUTNER</td>\n",
       "      <td>EX</td>\n",
       "      <td>national-government-se</td>\n",
       "      <td>/o=ESRI/ou=Exchange Administrative Group (FYDI...</td>\n",
       "      <td>EX</td>\n",
       "      <td>NaN</td>\n",
       "      <td>NaN</td>\n",
       "      <td>...</td>\n",
       "      <td>NaN</td>\n",
       "      <td>High</td>\n",
       "      <td>NaN</td>\n",
       "      <td>Normal</td>\n",
       "      <td>NaN</td>\n",
       "      <td>NaN</td>\n",
       "      <td>NaN</td>\n",
       "      <td>NaN</td>\n",
       "      <td>NaN</td>\n",
       "      <td>NaN</td>\n",
       "    </tr>\n",
       "    <tr>\n",
       "      <th>2</th>\n",
       "      <td>FW: Next EDGE: Stories from Esri's Response to...</td>\n",
       "      <td>Hi James,\\r\\n\\r\\n \\r\\n\\r\\nHere is the email I ...</td>\n",
       "      <td>Eileen Seifert</td>\n",
       "      <td>/O=ESRI/OU=EXCHANGE ADMINISTRATIVE GROUP (FYDI...</td>\n",
       "      <td>EX</td>\n",
       "      <td>James Jones</td>\n",
       "      <td>/o=ESRI/ou=Exchange Administrative Group (FYDI...</td>\n",
       "      <td>EX</td>\n",
       "      <td>NaN</td>\n",
       "      <td>NaN</td>\n",
       "      <td>...</td>\n",
       "      <td>NaN</td>\n",
       "      <td>Normal</td>\n",
       "      <td>NaN</td>\n",
       "      <td>Normal</td>\n",
       "      <td>NaN</td>\n",
       "      <td>NaN</td>\n",
       "      <td>NaN</td>\n",
       "      <td>NaN</td>\n",
       "      <td>NaN</td>\n",
       "      <td>NaN</td>\n",
       "    </tr>\n",
       "    <tr>\n",
       "      <th>3</th>\n",
       "      <td>Learning Plan Updates: James Jones</td>\n",
       "      <td>Hello James,  \\r\\n \\r\\nUpdates have been made ...</td>\n",
       "      <td>LMSAdmin@esri.com</td>\n",
       "      <td>LMSAdmin@esri.com</td>\n",
       "      <td>SMTP</td>\n",
       "      <td>James Jones</td>\n",
       "      <td>/o=ESRI/ou=Exchange Administrative Group (FYDI...</td>\n",
       "      <td>EX</td>\n",
       "      <td>NaN</td>\n",
       "      <td>NaN</td>\n",
       "      <td>...</td>\n",
       "      <td>NaN</td>\n",
       "      <td>Normal</td>\n",
       "      <td>NaN</td>\n",
       "      <td>Normal</td>\n",
       "      <td>NaN</td>\n",
       "      <td>NaN</td>\n",
       "      <td>NaN</td>\n",
       "      <td>NaN</td>\n",
       "      <td>NaN</td>\n",
       "      <td>NaN</td>\n",
       "    </tr>\n",
       "    <tr>\n",
       "      <th>4</th>\n",
       "      <td>Eileen Seifert has added you to a collaborated...</td>\n",
       "      <td>Eileen Seifert has added you to a folder: \\t\\r...</td>\n",
       "      <td>ESeifert@esri.com</td>\n",
       "      <td>ESeifert@esri.com</td>\n",
       "      <td>SMTP</td>\n",
       "      <td>James Jones</td>\n",
       "      <td>/o=ESRI/ou=Exchange Administrative Group (FYDI...</td>\n",
       "      <td>EX</td>\n",
       "      <td>NaN</td>\n",
       "      <td>NaN</td>\n",
       "      <td>...</td>\n",
       "      <td>NaN</td>\n",
       "      <td>Normal</td>\n",
       "      <td>NaN</td>\n",
       "      <td>Normal</td>\n",
       "      <td>NaN</td>\n",
       "      <td>NaN</td>\n",
       "      <td>NaN</td>\n",
       "      <td>NaN</td>\n",
       "      <td>NaN</td>\n",
       "      <td>NaN</td>\n",
       "    </tr>\n",
       "  </tbody>\n",
       "</table>\n",
       "<p>5 rows × 25 columns</p>\n",
       "</div>"
      ],
      "text/plain": [
       "                                             Subject  \\\n",
       "0                  Assistance with EDGE Presentation   \n",
       "1  FW: REAL ID Compliance enforcement and impacts...   \n",
       "2  FW: Next EDGE: Stories from Esri's Response to...   \n",
       "3                 Learning Plan Updates: James Jones   \n",
       "4  Eileen Seifert has added you to a collaborated...   \n",
       "\n",
       "                                                Body       From: (Name)  \\\n",
       "0  Hi everyone,\\r\\n\\r\\n \\r\\n\\r\\nWould anyone be a...      Erin Trautner   \n",
       "1  Good morning team,\\r\\n\\r\\n \\r\\n\\r\\nJust wanted...      Erin Trautner   \n",
       "2  Hi James,\\r\\n\\r\\n \\r\\n\\r\\nHere is the email I ...     Eileen Seifert   \n",
       "3  Hello James,  \\r\\n \\r\\nUpdates have been made ...  LMSAdmin@esri.com   \n",
       "4  Eileen Seifert has added you to a folder: \\t\\r...  ESeifert@esri.com   \n",
       "\n",
       "                                     From: (Address) From: (Type)  \\\n",
       "0       /O=ESRI/OU=WASHDC/CN=RECIPIENTS/CN=ETRAUTNER           EX   \n",
       "1       /O=ESRI/OU=WASHDC/CN=RECIPIENTS/CN=ETRAUTNER           EX   \n",
       "2  /O=ESRI/OU=EXCHANGE ADMINISTRATIVE GROUP (FYDI...           EX   \n",
       "3                                  LMSAdmin@esri.com         SMTP   \n",
       "4                                  ESeifert@esri.com         SMTP   \n",
       "\n",
       "               To: (Name)                                      To: (Address)  \\\n",
       "0  national-government-se  /o=ESRI/ou=Exchange Administrative Group (FYDI...   \n",
       "1  national-government-se  /o=ESRI/ou=Exchange Administrative Group (FYDI...   \n",
       "2             James Jones  /o=ESRI/ou=Exchange Administrative Group (FYDI...   \n",
       "3             James Jones  /o=ESRI/ou=Exchange Administrative Group (FYDI...   \n",
       "4             James Jones  /o=ESRI/ou=Exchange Administrative Group (FYDI...   \n",
       "\n",
       "  To: (Type) CC: (Name) CC: (Address)     ...     Categories Importance  \\\n",
       "0         EX        NaN           NaN     ...            NaN     Normal   \n",
       "1         EX        NaN           NaN     ...            NaN       High   \n",
       "2         EX        NaN           NaN     ...            NaN     Normal   \n",
       "3         EX        NaN           NaN     ...            NaN     Normal   \n",
       "4         EX        NaN           NaN     ...            NaN     Normal   \n",
       "\n",
       "  Mileage Sensitivity Unnamed: 19 Unnamed: 20 Unnamed: 21 Unnamed: 22  \\\n",
       "0     NaN      Normal         NaN         NaN         NaN         NaN   \n",
       "1     NaN      Normal         NaN         NaN         NaN         NaN   \n",
       "2     NaN      Normal         NaN         NaN         NaN         NaN   \n",
       "3     NaN      Normal         NaN         NaN         NaN         NaN   \n",
       "4     NaN      Normal         NaN         NaN         NaN         NaN   \n",
       "\n",
       "  Unnamed: 23 Unnamed: 24  \n",
       "0         NaN         NaN  \n",
       "1         NaN         NaN  \n",
       "2         NaN         NaN  \n",
       "3         NaN         NaN  \n",
       "4         NaN         NaN  \n",
       "\n",
       "[5 rows x 25 columns]"
      ]
     },
     "execution_count": 4,
     "metadata": {},
     "output_type": "execute_result"
    }
   ],
   "source": [
    "df.head()"
   ]
  },
  {
   "cell_type": "code",
   "execution_count": 5,
   "metadata": {},
   "outputs": [
    {
     "data": {
      "text/plain": [
       "(12894, 25)"
      ]
     },
     "execution_count": 5,
     "metadata": {},
     "output_type": "execute_result"
    }
   ],
   "source": [
    "df.shape"
   ]
  },
  {
   "cell_type": "code",
   "execution_count": 6,
   "metadata": {},
   "outputs": [],
   "source": [
    "G = nx.MultiDiGraph()\n",
    "edges = G.edges(keys=True)"
   ]
  },
  {
   "cell_type": "code",
   "execution_count": 7,
   "metadata": {},
   "outputs": [],
   "source": [
    "for row in df.iterrows():\n",
    "    sender = row[1]['From: (Name)']\n",
    "    try:\n",
    "        for person in row[1]['To: (Name)'].split(\";\"):\n",
    "            if person != 'James Jones':\n",
    "                G.add_edge(sender, person, sent_type='To')\n",
    "    except: \n",
    "        pass\n",
    "        \n",
    "    try:\n",
    "        for cc in row[1]['CC: (Name)'].split(\";\"):\n",
    "            if cc != 'James Jones':\n",
    "                G.add_edge(sender, cc, sent_type='CC')\n",
    "    except:\n",
    "        pass\n",
    "    \n",
    "    try:\n",
    "        for bcc in row[1]['BCC: (Name)'].split(\";\"):\n",
    "            if bcc != 'James Jones':\n",
    "                G.add_edge(sender, bcc, sent_type='BCC')\n",
    "    except:\n",
    "        pass"
   ]
  },
  {
   "cell_type": "code",
   "execution_count": 8,
   "metadata": {},
   "outputs": [
    {
     "name": "stdout",
     "output_type": "stream",
     "text": [
      "Total number of nodes in multi graph:  2016\n",
      "Total number of edges in multi graph:  24254\n"
     ]
    }
   ],
   "source": [
    "print(\"Total number of nodes in multi graph:  \" + repr(len(G.nodes)))\n",
    "print(\"Total number of edges in multi graph:  \" + repr(len(G.edges)))"
   ]
  },
  {
   "cell_type": "code",
   "execution_count": 9,
   "metadata": {},
   "outputs": [
    {
     "name": "stdout",
     "output_type": "stream",
     "text": [
      "Graph density:  0.005970597502855567\n"
     ]
    }
   ],
   "source": [
    "graph_density = nx.density(G)\n",
    "print(\"Graph density:  \" + repr(graph_density))"
   ]
  },
  {
   "cell_type": "code",
   "execution_count": 10,
   "metadata": {},
   "outputs": [
    {
     "name": "stdout",
     "output_type": "stream",
     "text": [
      "Graph Information\n",
      "Name: \n",
      "Type: MultiDiGraph\n",
      "Number of nodes: 2016\n",
      "Number of edges: 24254\n",
      "Average in degree:  12.0308\n",
      "Average out degree:  12.0308\n"
     ]
    }
   ],
   "source": [
    "graph_info = nx.info(G)\n",
    "print(\"Graph Information\")\n",
    "print(graph_info)"
   ]
  },
  {
   "cell_type": "code",
   "execution_count": 12,
   "metadata": {},
   "outputs": [],
   "source": [
    "#  Compute Degree Centrality\n",
    "degree = dict(G.degree())\n",
    "nx.set_node_attributes(G, name='degree', values=degree)"
   ]
  },
  {
   "cell_type": "code",
   "execution_count": 13,
   "metadata": {},
   "outputs": [],
   "source": [
    "#  Compute In-Degree/Out-Degree Centrality\n",
    "in_degree = dict(nx.in_degree_centrality(G))\n",
    "out_degree = dict(nx.out_degree_centrality(G))\n",
    "nx.set_node_attributes(G, name='in degree', values=in_degree)\n",
    "nx.set_node_attributes(G, name='out degree', values=out_degree)"
   ]
  },
  {
   "cell_type": "code",
   "execution_count": 14,
   "metadata": {},
   "outputs": [],
   "source": [
    "#  Compute Closeness Centrality\n",
    "closeness = dict(nx.closeness_centrality(G))\n",
    "nx.set_node_attributes(G, name='closeness', values=closeness)"
   ]
  },
  {
   "cell_type": "code",
   "execution_count": 15,
   "metadata": {},
   "outputs": [],
   "source": [
    "#  Compute Betweenness Centrality for nodes and edges\n",
    "node_betweenness = dict(nx.betweenness_centrality(G))\n",
    "nx.set_node_attributes(G, name='betweenness', values=node_betweenness)"
   ]
  },
  {
   "cell_type": "code",
   "execution_count": 17,
   "metadata": {},
   "outputs": [],
   "source": [
    "# View Information about an Individual Node\n",
    "nodes_list = dict(G.nodes.data())"
   ]
  },
  {
   "cell_type": "code",
   "execution_count": 24,
   "metadata": {},
   "outputs": [],
   "source": [
    "email_connectivity = []\n",
    "for node in nodes_list.items():\n",
    "    name = node[0]\n",
    "    degree_cen = node[1]['degree']\n",
    "    in_degree_cen = node[1]['in degree']\n",
    "    out_degree_cen = node[1]['out degree']\n",
    "    closeness_cen = node[1]['closeness']\n",
    "    betweenness = node[1]['betweenness']\n",
    "    iRow = [name, degree_cen, in_degree_cen, out_degree_cen, closeness_cen, betweenness]\n",
    "    email_connectivity.append(iRow)\n",
    "    \n",
    "email_connectivity_df = pd.DataFrame(email_connectivity, columns=['Name', 'Degree', 'In Degree', 'Out Degree', 'Closeness', 'Betweenness'])"
   ]
  },
  {
   "cell_type": "code",
   "execution_count": 31,
   "metadata": {},
   "outputs": [
    {
     "data": {
      "text/html": [
       "<div>\n",
       "<style scoped>\n",
       "    .dataframe tbody tr th:only-of-type {\n",
       "        vertical-align: middle;\n",
       "    }\n",
       "\n",
       "    .dataframe tbody tr th {\n",
       "        vertical-align: top;\n",
       "    }\n",
       "\n",
       "    .dataframe thead th {\n",
       "        text-align: right;\n",
       "    }\n",
       "</style>\n",
       "<table border=\"1\" class=\"dataframe\">\n",
       "  <thead>\n",
       "    <tr style=\"text-align: right;\">\n",
       "      <th></th>\n",
       "      <th>Name</th>\n",
       "      <th>Degree</th>\n",
       "      <th>In Degree</th>\n",
       "      <th>Out Degree</th>\n",
       "      <th>Closeness</th>\n",
       "      <th>Betweenness</th>\n",
       "    </tr>\n",
       "  </thead>\n",
       "  <tbody>\n",
       "    <tr>\n",
       "      <th>450</th>\n",
       "      <td>Yolanda Dodson</td>\n",
       "      <td>2489</td>\n",
       "      <td>0.005955</td>\n",
       "      <td>1.229280</td>\n",
       "      <td>0.048801</td>\n",
       "      <td>0.002535</td>\n",
       "    </tr>\n",
       "    <tr>\n",
       "      <th>0</th>\n",
       "      <td>Erin Trautner</td>\n",
       "      <td>1926</td>\n",
       "      <td>0.044169</td>\n",
       "      <td>0.911663</td>\n",
       "      <td>0.057890</td>\n",
       "      <td>0.007994</td>\n",
       "    </tr>\n",
       "    <tr>\n",
       "      <th>56</th>\n",
       "      <td>Eben Wells</td>\n",
       "      <td>1939</td>\n",
       "      <td>0.067990</td>\n",
       "      <td>0.894293</td>\n",
       "      <td>0.062259</td>\n",
       "      <td>0.011666</td>\n",
       "    </tr>\n",
       "    <tr>\n",
       "      <th>54</th>\n",
       "      <td>Emily Bottomley</td>\n",
       "      <td>965</td>\n",
       "      <td>0.018859</td>\n",
       "      <td>0.460050</td>\n",
       "      <td>0.054575</td>\n",
       "      <td>0.006058</td>\n",
       "    </tr>\n",
       "    <tr>\n",
       "      <th>7</th>\n",
       "      <td>James Sullivan</td>\n",
       "      <td>1395</td>\n",
       "      <td>0.232754</td>\n",
       "      <td>0.459553</td>\n",
       "      <td>0.082811</td>\n",
       "      <td>0.012257</td>\n",
       "    </tr>\n",
       "  </tbody>\n",
       "</table>\n",
       "</div>"
      ],
      "text/plain": [
       "                Name  Degree  In Degree  Out Degree  Closeness  Betweenness\n",
       "450   Yolanda Dodson    2489   0.005955    1.229280   0.048801     0.002535\n",
       "0      Erin Trautner    1926   0.044169    0.911663   0.057890     0.007994\n",
       "56        Eben Wells    1939   0.067990    0.894293   0.062259     0.011666\n",
       "54   Emily Bottomley     965   0.018859    0.460050   0.054575     0.006058\n",
       "7     James Sullivan    1395   0.232754    0.459553   0.082811     0.012257"
      ]
     },
     "execution_count": 31,
     "metadata": {},
     "output_type": "execute_result"
    }
   ],
   "source": [
    "email_connectivity_df.sort_values('Out Degree',ascending=False).head()"
   ]
  },
  {
   "cell_type": "code",
   "execution_count": 34,
   "metadata": {},
   "outputs": [
    {
     "data": {
      "image/png": "[encoded data removed]",
      "text/plain": [
       "<Figure size 432x288 with 1 Axes>"
      ]
     },
     "metadata": {},
     "output_type": "display_data"
    }
   ],
   "source": [
    "defense_team = nx.ego_graph(G, 'James Sullivan')\n",
    "pos = nx.spring_layout(defense_team)\n",
    "nx.draw(defense_team)"
   ]
  },
  {
   "cell_type": "code",
   "execution_count": 41,
   "metadata": {},
   "outputs": [],
   "source": [
    "defense_team_dict = dict(defense_team.nodes.data())"
   ]
  },
  {
   "cell_type": "code",
   "execution_count": 45,
   "metadata": {},
   "outputs": [],
   "source": [
    "defense_team_subgraph = []\n",
    "for node in defense_team_dict.items():\n",
    "    name = node[0]\n",
    "    degree_cen = node[1]['degree']\n",
    "    in_degree_cen = node[1]['in degree']\n",
    "    out_degree_cen = node[1]['out degree']\n",
    "    closeness_cen = node[1]['closeness']\n",
    "    betweenness = node[1]['betweenness']\n",
    "    iRow = [name, degree_cen, in_degree_cen, out_degree_cen, closeness_cen, betweenness]\n",
    "    defense_team_subgraph.append(iRow)\n",
    "    \n",
    "defense_team_df = pd.DataFrame(defense_team_subgraph, columns=['Name', 'Degree', 'In Degree', 'Out Degree', 'Closeness', 'Betweenness'])\n"
   ]
  },
  {
   "cell_type": "code",
   "execution_count": 51,
   "metadata": {},
   "outputs": [
    {
     "data": {
      "text/html": [
       "<div>\n",
       "<style scoped>\n",
       "    .dataframe tbody tr th:only-of-type {\n",
       "        vertical-align: middle;\n",
       "    }\n",
       "\n",
       "    .dataframe tbody tr th {\n",
       "        vertical-align: top;\n",
       "    }\n",
       "\n",
       "    .dataframe thead th {\n",
       "        text-align: right;\n",
       "    }\n",
       "</style>\n",
       "<table border=\"1\" class=\"dataframe\">\n",
       "  <thead>\n",
       "    <tr style=\"text-align: right;\">\n",
       "      <th></th>\n",
       "      <th>Name</th>\n",
       "      <th>Degree</th>\n",
       "      <th>In Degree</th>\n",
       "      <th>Out Degree</th>\n",
       "      <th>Closeness</th>\n",
       "      <th>Betweenness</th>\n",
       "    </tr>\n",
       "  </thead>\n",
       "  <tbody>\n",
       "    <tr>\n",
       "      <th>9</th>\n",
       "      <td>Erin Trautner</td>\n",
       "      <td>1926</td>\n",
       "      <td>0.044169</td>\n",
       "      <td>0.911663</td>\n",
       "      <td>0.057890</td>\n",
       "      <td>0.007994</td>\n",
       "    </tr>\n",
       "    <tr>\n",
       "      <th>10</th>\n",
       "      <td>Eben Wells</td>\n",
       "      <td>1939</td>\n",
       "      <td>0.067990</td>\n",
       "      <td>0.894293</td>\n",
       "      <td>0.062259</td>\n",
       "      <td>0.011666</td>\n",
       "    </tr>\n",
       "    <tr>\n",
       "      <th>66</th>\n",
       "      <td>James Sullivan</td>\n",
       "      <td>1395</td>\n",
       "      <td>0.232754</td>\n",
       "      <td>0.459553</td>\n",
       "      <td>0.082811</td>\n",
       "      <td>0.012257</td>\n",
       "    </tr>\n",
       "    <tr>\n",
       "      <th>17</th>\n",
       "      <td>Sarah Schwoppe</td>\n",
       "      <td>641</td>\n",
       "      <td>0.040695</td>\n",
       "      <td>0.277419</td>\n",
       "      <td>0.062531</td>\n",
       "      <td>0.009992</td>\n",
       "    </tr>\n",
       "    <tr>\n",
       "      <th>86</th>\n",
       "      <td>Jeffrey Dawley</td>\n",
       "      <td>666</td>\n",
       "      <td>0.072953</td>\n",
       "      <td>0.257568</td>\n",
       "      <td>0.066921</td>\n",
       "      <td>0.013360</td>\n",
       "    </tr>\n",
       "  </tbody>\n",
       "</table>\n",
       "</div>"
      ],
      "text/plain": [
       "              Name  Degree  In Degree  Out Degree  Closeness  Betweenness\n",
       "9    Erin Trautner    1926   0.044169    0.911663   0.057890     0.007994\n",
       "10      Eben Wells    1939   0.067990    0.894293   0.062259     0.011666\n",
       "66  James Sullivan    1395   0.232754    0.459553   0.082811     0.012257\n",
       "17  Sarah Schwoppe     641   0.040695    0.277419   0.062531     0.009992\n",
       "86  Jeffrey Dawley     666   0.072953    0.257568   0.066921     0.013360"
      ]
     },
     "execution_count": 51,
     "metadata": {},
     "output_type": "execute_result"
    }
   ],
   "source": [
    "defense_team_df.sort_values('Out Degree',ascending=False).head()"
   ]
  },
  {
   "cell_type": "code",
   "execution_count": null,
   "metadata": {},
   "outputs": [],
   "source": []
  }
 ],
 "metadata": {
  "kernelspec": {
   "display_name": "Python 3",
   "language": "python",
   "name": "python3"
  },
  "language_info": {
   "codemirror_mode": {
    "name": "ipython",
    "version": 3
   },
   "file_extension": ".py",
   "mimetype": "text/x-python",
   "name": "python",
   "nbconvert_exporter": "python",
   "pygments_lexer": "ipython3",
   "version": "3.6.5"
  }
 },
 "nbformat": 4,
 "nbformat_minor": 2
}
