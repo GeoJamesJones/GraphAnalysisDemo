{
 "cells": [
  {
   "cell_type": "code",
   "execution_count": 1,
   "metadata": {},
   "outputs": [],
   "source": [
    "import networkx as nx\n",
    "import pandas as pd\n",
    "import matplotlib.pyplot as plt"
   ]
  },
  {
   "cell_type": "code",
   "execution_count": 2,
   "metadata": {},
   "outputs": [],
   "source": [
    "inbox_file = r'InboxExport/Inbox.xlsx'"
   ]
  },
  {
   "cell_type": "code",
   "execution_count": 3,
   "metadata": {},
   "outputs": [],
   "source": [
    "df = pd.read_excel(inbox_file)"
   ]
  },
  {
   "cell_type": "code",
   "execution_count": 4,
   "metadata": {},
   "outputs": [
    {
     "data": {
      "text/html": [
       "<div>\n",
       "<style scoped>\n",
       "    .dataframe tbody tr th:only-of-type {\n",
       "        vertical-align: middle;\n",
       "    }\n",
       "\n",
       "    .dataframe tbody tr th {\n",
       "        vertical-align: top;\n",
       "    }\n",
       "\n",
       "    .dataframe thead th {\n",
       "        text-align: right;\n",
       "    }\n",
       "</style>\n",
       "<table border=\"1\" class=\"dataframe\">\n",
       "  <thead>\n",
       "    <tr style=\"text-align: right;\">\n",
       "      <th></th>\n",
       "      <th>Subject</th>\n",
       "      <th>Body</th>\n",
       "      <th>From: (Name)</th>\n",
       "      <th>From: (Address)</th>\n",
       "      <th>From: (Type)</th>\n",
       "      <th>To: (Name)</th>\n",
       "      <th>To: (Address)</th>\n",
       "      <th>To: (Type)</th>\n",
       "      <th>CC: (Name)</th>\n",
       "      <th>CC: (Address)</th>\n",
       "      <th>...</th>\n",
       "      <th>Categories</th>\n",
       "      <th>Importance</th>\n",
       "      <th>Mileage</th>\n",
       "      <th>Sensitivity</th>\n",
       "      <th>Unnamed: 19</th>\n",
       "      <th>Unnamed: 20</th>\n",
       "      <th>Unnamed: 21</th>\n",
       "      <th>Unnamed: 22</th>\n",
       "      <th>Unnamed: 23</th>\n",
       "      <th>Unnamed: 24</th>\n",
       "    </tr>\n",
       "  </thead>\n",
       "  <tbody>\n",
       "    <tr>\n",
       "      <th>0</th>\n",
       "      <td>Assistance with EDGE Presentation</td>\n",
       "      <td>Hi everyone,\\r\\n\\r\\n \\r\\n\\r\\nWould anyone be a...</td>\n",
       "      <td>Erin Trautner</td>\n",
       "      <td>/O=ESRI/OU=WASHDC/CN=RECIPIENTS/CN=ETRAUTNER</td>\n",
       "      <td>EX</td>\n",
       "      <td>national-government-se</td>\n",
       "      <td>/o=ESRI/ou=Exchange Administrative Group (FYDI...</td>\n",
       "      <td>EX</td>\n",
       "      <td>NaN</td>\n",
       "      <td>NaN</td>\n",
       "      <td>...</td>\n",
       "      <td>NaN</td>\n",
       "      <td>Normal</td>\n",
       "      <td>NaN</td>\n",
       "      <td>Normal</td>\n",
       "      <td>NaN</td>\n",
       "      <td>NaN</td>\n",
       "      <td>NaN</td>\n",
       "      <td>NaN</td>\n",
       "      <td>NaN</td>\n",
       "      <td>NaN</td>\n",
       "    </tr>\n",
       "    <tr>\n",
       "      <th>1</th>\n",
       "      <td>FW: REAL ID Compliance enforcement and impacts...</td>\n",
       "      <td>Good morning team,\\r\\n\\r\\n \\r\\n\\r\\nJust wanted...</td>\n",
       "      <td>Erin Trautner</td>\n",
       "      <td>/O=ESRI/OU=WASHDC/CN=RECIPIENTS/CN=ETRAUTNER</td>\n",
       "      <td>EX</td>\n",
       "      <td>national-government-se</td>\n",
       "      <td>/o=ESRI/ou=Exchange Administrative Group (FYDI...</td>\n",
       "      <td>EX</td>\n",
       "      <td>NaN</td>\n",
       "      <td>NaN</td>\n",
       "      <td>...</td>\n",
       "      <td>NaN</td>\n",
       "      <td>High</td>\n",
       "      <td>NaN</td>\n",
       "      <td>Normal</td>\n",
       "      <td>NaN</td>\n",
       "      <td>NaN</td>\n",
       "      <td>NaN</td>\n",
       "      <td>NaN</td>\n",
       "      <td>NaN</td>\n",
       "      <td>NaN</td>\n",
       "    </tr>\n",
       "    <tr>\n",
       "      <th>2</th>\n",
       "      <td>FW: Next EDGE: Stories from Esri's Response to...</td>\n",
       "      <td>Hi James,\\r\\n\\r\\n \\r\\n\\r\\nHere is the email I ...</td>\n",
       "      <td>Eileen Seifert</td>\n",
       "      <td>/O=ESRI/OU=EXCHANGE ADMINISTRATIVE GROUP (FYDI...</td>\n",
       "      <td>EX</td>\n",
       "      <td>James Jones</td>\n",
       "      <td>/o=ESRI/ou=Exchange Administrative Group (FYDI...</td>\n",
       "      <td>EX</td>\n",
       "      <td>NaN</td>\n",
       "      <td>NaN</td>\n",
       "      <td>...</td>\n",
       "      <td>NaN</td>\n",
       "      <td>Normal</td>\n",
       "      <td>NaN</td>\n",
       "      <td>Normal</td>\n",
       "      <td>NaN</td>\n",
       "      <td>NaN</td>\n",
       "      <td>NaN</td>\n",
       "      <td>NaN</td>\n",
       "      <td>NaN</td>\n",
       "      <td>NaN</td>\n",
       "    </tr>\n",
       "    <tr>\n",
       "      <th>3</th>\n",
       "      <td>Learning Plan Updates: James Jones</td>\n",
       "      <td>Hello James,  \\r\\n \\r\\nUpdates have been made ...</td>\n",
       "      <td>LMSAdmin@esri.com</td>\n",
       "      <td>LMSAdmin@esri.com</td>\n",
       "      <td>SMTP</td>\n",
       "      <td>James Jones</td>\n",
       "      <td>/o=ESRI/ou=Exchange Administrative Group (FYDI...</td>\n",
       "      <td>EX</td>\n",
       "      <td>NaN</td>\n",
       "      <td>NaN</td>\n",
       "      <td>...</td>\n",
       "      <td>NaN</td>\n",
       "      <td>Normal</td>\n",
       "      <td>NaN</td>\n",
       "      <td>Normal</td>\n",
       "      <td>NaN</td>\n",
       "      <td>NaN</td>\n",
       "      <td>NaN</td>\n",
       "      <td>NaN</td>\n",
       "      <td>NaN</td>\n",
       "      <td>NaN</td>\n",
       "    </tr>\n",
       "    <tr>\n",
       "      <th>4</th>\n",
       "      <td>Eileen Seifert has added you to a collaborated...</td>\n",
       "      <td>Eileen Seifert has added you to a folder: \\t\\r...</td>\n",
       "      <td>ESeifert@esri.com</td>\n",
       "      <td>ESeifert@esri.com</td>\n",
       "      <td>SMTP</td>\n",
       "      <td>James Jones</td>\n",
       "      <td>/o=ESRI/ou=Exchange Administrative Group (FYDI...</td>\n",
       "      <td>EX</td>\n",
       "      <td>NaN</td>\n",
       "      <td>NaN</td>\n",
       "      <td>...</td>\n",
       "      <td>NaN</td>\n",
       "      <td>Normal</td>\n",
       "      <td>NaN</td>\n",
       "      <td>Normal</td>\n",
       "      <td>NaN</td>\n",
       "      <td>NaN</td>\n",
       "      <td>NaN</td>\n",
       "      <td>NaN</td>\n",
       "      <td>NaN</td>\n",
       "      <td>NaN</td>\n",
       "    </tr>\n",
       "  </tbody>\n",
       "</table>\n",
       "<p>5 rows × 25 columns</p>\n",
       "</div>"
      ],
      "text/plain": [
       "                                             Subject  \\\n",
       "0                  Assistance with EDGE Presentation   \n",
       "1  FW: REAL ID Compliance enforcement and impacts...   \n",
       "2  FW: Next EDGE: Stories from Esri's Response to...   \n",
       "3                 Learning Plan Updates: James Jones   \n",
       "4  Eileen Seifert has added you to a collaborated...   \n",
       "\n",
       "                                                Body       From: (Name)  \\\n",
       "0  Hi everyone,\\r\\n\\r\\n \\r\\n\\r\\nWould anyone be a...      Erin Trautner   \n",
       "1  Good morning team,\\r\\n\\r\\n \\r\\n\\r\\nJust wanted...      Erin Trautner   \n",
       "2  Hi James,\\r\\n\\r\\n \\r\\n\\r\\nHere is the email I ...     Eileen Seifert   \n",
       "3  Hello James,  \\r\\n \\r\\nUpdates have been made ...  LMSAdmin@esri.com   \n",
       "4  Eileen Seifert has added you to a folder: \\t\\r...  ESeifert@esri.com   \n",
       "\n",
       "                                     From: (Address) From: (Type)  \\\n",
       "0       /O=ESRI/OU=WASHDC/CN=RECIPIENTS/CN=ETRAUTNER           EX   \n",
       "1       /O=ESRI/OU=WASHDC/CN=RECIPIENTS/CN=ETRAUTNER           EX   \n",
       "2  /O=ESRI/OU=EXCHANGE ADMINISTRATIVE GROUP (FYDI...           EX   \n",
       "3                                  LMSAdmin@esri.com         SMTP   \n",
       "4                                  ESeifert@esri.com         SMTP   \n",
       "\n",
       "               To: (Name)                                      To: (Address)  \\\n",
       "0  national-government-se  /o=ESRI/ou=Exchange Administrative Group (FYDI...   \n",
       "1  national-government-se  /o=ESRI/ou=Exchange Administrative Group (FYDI...   \n",
       "2             James Jones  /o=ESRI/ou=Exchange Administrative Group (FYDI...   \n",
       "3             James Jones  /o=ESRI/ou=Exchange Administrative Group (FYDI...   \n",
       "4             James Jones  /o=ESRI/ou=Exchange Administrative Group (FYDI...   \n",
       "\n",
       "  To: (Type) CC: (Name) CC: (Address)     ...     Categories Importance  \\\n",
       "0         EX        NaN           NaN     ...            NaN     Normal   \n",
       "1         EX        NaN           NaN     ...            NaN       High   \n",
       "2         EX        NaN           NaN     ...            NaN     Normal   \n",
       "3         EX        NaN           NaN     ...            NaN     Normal   \n",
       "4         EX        NaN           NaN     ...            NaN     Normal   \n",
       "\n",
       "  Mileage Sensitivity Unnamed: 19 Unnamed: 20 Unnamed: 21 Unnamed: 22  \\\n",
       "0     NaN      Normal         NaN         NaN         NaN         NaN   \n",
       "1     NaN      Normal         NaN         NaN         NaN         NaN   \n",
       "2     NaN      Normal         NaN         NaN         NaN         NaN   \n",
       "3     NaN      Normal         NaN         NaN         NaN         NaN   \n",
       "4     NaN      Normal         NaN         NaN         NaN         NaN   \n",
       "\n",
       "  Unnamed: 23 Unnamed: 24  \n",
       "0         NaN         NaN  \n",
       "1         NaN         NaN  \n",
       "2         NaN         NaN  \n",
       "3         NaN         NaN  \n",
       "4         NaN         NaN  \n",
       "\n",
       "[5 rows x 25 columns]"
      ]
     },
     "execution_count": 4,
     "metadata": {},
     "output_type": "execute_result"
    }
   ],
   "source": [
    "df.head()"
   ]
  },
  {
   "cell_type": "code",
   "execution_count": 5,
   "metadata": {},
   "outputs": [
    {
     "data": {
      "text/plain": [
       "(12894, 25)"
      ]
     },
     "execution_count": 5,
     "metadata": {},
     "output_type": "execute_result"
    }
   ],
   "source": [
    "df.shape"
   ]
  },
  {
   "cell_type": "code",
   "execution_count": 6,
   "metadata": {},
   "outputs": [],
   "source": [
    "G = nx.MultiDiGraph()\n",
    "edges = G.edges(keys=True)"
   ]
  },
  {
   "cell_type": "code",
   "execution_count": 7,
   "metadata": {},
   "outputs": [],
   "source": [
    "my_name = 'James Jones'"
   ]
  },
  {
   "cell_type": "code",
   "execution_count": 8,
   "metadata": {},
   "outputs": [],
   "source": [
    "for row in df.iterrows():\n",
    "    sender = row[1]['From: (Name)']\n",
    "    try:\n",
    "        for person in row[1]['To: (Name)'].split(\";\"):\n",
    "            if person != my_name:\n",
    "                G.add_edge(sender, person, sent_type='To')\n",
    "    except: \n",
    "        pass\n",
    "        \n",
    "    try:\n",
    "        for cc in row[1]['CC: (Name)'].split(\";\"):\n",
    "            if cc != my_name:\n",
    "                G.add_edge(sender, cc, sent_type='CC')\n",
    "    except:\n",
    "        pass\n",
    "    \n",
    "    try:\n",
    "        for bcc in row[1]['BCC: (Name)'].split(\";\"):\n",
    "            if bcc != my_name:\n",
    "                G.add_edge(sender, bcc, sent_type='BCC')\n",
    "    except:\n",
    "        pass"
   ]
  },
  {
   "cell_type": "code",
   "execution_count": 9,
   "metadata": {},
   "outputs": [
    {
     "name": "stdout",
     "output_type": "stream",
     "text": [
      "Total number of nodes in multi graph:  2016\n",
      "Total number of edges in multi graph:  24254\n"
     ]
    }
   ],
   "source": [
    "print(\"Total number of nodes in multi graph:  \" + repr(len(G.nodes)))\n",
    "print(\"Total number of edges in multi graph:  \" + repr(len(G.edges)))"
   ]
  },
  {
   "cell_type": "code",
   "execution_count": 10,
   "metadata": {},
   "outputs": [
    {
     "name": "stdout",
     "output_type": "stream",
     "text": [
      "Graph density:  0.005970597502855567\n"
     ]
    }
   ],
   "source": [
    "graph_density = nx.density(G)\n",
    "print(\"Graph density:  \" + repr(graph_density))"
   ]
  },
  {
   "cell_type": "code",
   "execution_count": 11,
   "metadata": {},
   "outputs": [
    {
     "name": "stdout",
     "output_type": "stream",
     "text": [
      "Graph Information\n",
      "Name: \n",
      "Type: MultiDiGraph\n",
      "Number of nodes: 2016\n",
      "Number of edges: 24254\n",
      "Average in degree:  12.0308\n",
      "Average out degree:  12.0308\n"
     ]
    }
   ],
   "source": [
    "graph_info = nx.info(G)\n",
    "print(\"Graph Information\")\n",
    "print(graph_info)"
   ]
  },
  {
   "cell_type": "code",
   "execution_count": 12,
   "metadata": {},
   "outputs": [],
   "source": [
    "#  Compute Degree Centrality\n",
    "degree = dict(G.degree())\n",
    "nx.set_node_attributes(G, name='degree', values=degree)"
   ]
  },
  {
   "cell_type": "code",
   "execution_count": 13,
   "metadata": {},
   "outputs": [],
   "source": [
    "#  Compute In-Degree/Out-Degree Centrality\n",
    "in_degree = dict(nx.in_degree_centrality(G))\n",
    "out_degree = dict(nx.out_degree_centrality(G))\n",
    "nx.set_node_attributes(G, name='in degree', values=in_degree)\n",
    "nx.set_node_attributes(G, name='out degree', values=out_degree)"
   ]
  },
  {
   "cell_type": "code",
   "execution_count": 14,
   "metadata": {},
   "outputs": [],
   "source": [
    "#  Compute Closeness Centrality\n",
    "closeness = dict(nx.closeness_centrality(G))\n",
    "nx.set_node_attributes(G, name='closeness', values=closeness)"
   ]
  },
  {
   "cell_type": "code",
   "execution_count": 15,
   "metadata": {},
   "outputs": [],
   "source": [
    "#  Compute Betweenness Centrality for nodes and edges\n",
    "node_betweenness = dict(nx.betweenness_centrality(G))\n",
    "nx.set_node_attributes(G, name='betweenness', values=node_betweenness)"
   ]
  },
  {
   "cell_type": "code",
   "execution_count": 16,
   "metadata": {},
   "outputs": [],
   "source": [
    "# View Information about an Individual Node\n",
    "nodes_list = dict(G.nodes.data())"
   ]
  },
  {
   "cell_type": "code",
   "execution_count": 17,
   "metadata": {},
   "outputs": [],
   "source": [
    "email_connectivity = []\n",
    "for node in nodes_list.items():\n",
    "    name = node[0]\n",
    "    degree_cen = node[1]['degree']\n",
    "    in_degree_cen = node[1]['in degree']\n",
    "    out_degree_cen = node[1]['out degree']\n",
    "    closeness_cen = node[1]['closeness']\n",
    "    betweenness = node[1]['betweenness']\n",
    "    iRow = [name, degree_cen, in_degree_cen, out_degree_cen, closeness_cen, betweenness]\n",
    "    email_connectivity.append(iRow)\n",
    "    \n",
    "email_connectivity_df = pd.DataFrame(email_connectivity, columns=['Name', 'Degree', 'In Degree', 'Out Degree', 'Closeness', 'Betweenness'])"
   ]
  },
  {
   "cell_type": "code",
   "execution_count": 22,
   "metadata": {},
   "outputs": [
    {
     "data": {
      "text/html": [
       "<div>\n",
       "<style scoped>\n",
       "    .dataframe tbody tr th:only-of-type {\n",
       "        vertical-align: middle;\n",
       "    }\n",
       "\n",
       "    .dataframe tbody tr th {\n",
       "        vertical-align: top;\n",
       "    }\n",
       "\n",
       "    .dataframe thead th {\n",
       "        text-align: right;\n",
       "    }\n",
       "</style>\n",
       "<table border=\"1\" class=\"dataframe\">\n",
       "  <thead>\n",
       "    <tr style=\"text-align: right;\">\n",
       "      <th></th>\n",
       "      <th>Name</th>\n",
       "      <th>Degree</th>\n",
       "      <th>In Degree</th>\n",
       "      <th>Out Degree</th>\n",
       "      <th>Closeness</th>\n",
       "      <th>Betweenness</th>\n",
       "    </tr>\n",
       "  </thead>\n",
       "  <tbody>\n",
       "    <tr>\n",
       "      <th>546</th>\n",
       "      <td>EX</td>\n",
       "      <td>1483</td>\n",
       "      <td>0.369727</td>\n",
       "      <td>0.366253</td>\n",
       "      <td>0.000496</td>\n",
       "      <td>0.000000</td>\n",
       "    </tr>\n",
       "    <tr>\n",
       "      <th>7</th>\n",
       "      <td>James Sullivan</td>\n",
       "      <td>1395</td>\n",
       "      <td>0.232754</td>\n",
       "      <td>0.459553</td>\n",
       "      <td>0.082811</td>\n",
       "      <td>0.012257</td>\n",
       "    </tr>\n",
       "    <tr>\n",
       "      <th>9</th>\n",
       "      <td>Andrew King</td>\n",
       "      <td>415</td>\n",
       "      <td>0.189578</td>\n",
       "      <td>0.016377</td>\n",
       "      <td>0.074087</td>\n",
       "      <td>0.000877</td>\n",
       "    </tr>\n",
       "    <tr>\n",
       "      <th>4</th>\n",
       "      <td>Thomas Eberhard</td>\n",
       "      <td>482</td>\n",
       "      <td>0.188089</td>\n",
       "      <td>0.051117</td>\n",
       "      <td>0.077013</td>\n",
       "      <td>0.011014</td>\n",
       "    </tr>\n",
       "    <tr>\n",
       "      <th>171</th>\n",
       "      <td>Tim Murphy</td>\n",
       "      <td>655</td>\n",
       "      <td>0.186104</td>\n",
       "      <td>0.138958</td>\n",
       "      <td>0.076600</td>\n",
       "      <td>0.018258</td>\n",
       "    </tr>\n",
       "    <tr>\n",
       "      <th>10</th>\n",
       "      <td>Jim Bauer</td>\n",
       "      <td>452</td>\n",
       "      <td>0.179156</td>\n",
       "      <td>0.045161</td>\n",
       "      <td>0.071020</td>\n",
       "      <td>0.001758</td>\n",
       "    </tr>\n",
       "    <tr>\n",
       "      <th>14</th>\n",
       "      <td>Scott Cecilio</td>\n",
       "      <td>570</td>\n",
       "      <td>0.167246</td>\n",
       "      <td>0.115633</td>\n",
       "      <td>0.072583</td>\n",
       "      <td>0.007720</td>\n",
       "    </tr>\n",
       "    <tr>\n",
       "      <th>8</th>\n",
       "      <td>John Fry</td>\n",
       "      <td>467</td>\n",
       "      <td>0.163772</td>\n",
       "      <td>0.067990</td>\n",
       "      <td>0.072583</td>\n",
       "      <td>0.001358</td>\n",
       "    </tr>\n",
       "    <tr>\n",
       "      <th>12</th>\n",
       "      <td>Nick Wiegand</td>\n",
       "      <td>326</td>\n",
       "      <td>0.160298</td>\n",
       "      <td>0.001489</td>\n",
       "      <td>0.076712</td>\n",
       "      <td>0.000000</td>\n",
       "    </tr>\n",
       "    <tr>\n",
       "      <th>731</th>\n",
       "      <td>Tyson Quink</td>\n",
       "      <td>490</td>\n",
       "      <td>0.134988</td>\n",
       "      <td>0.108189</td>\n",
       "      <td>0.072338</td>\n",
       "      <td>0.000842</td>\n",
       "    </tr>\n",
       "  </tbody>\n",
       "</table>\n",
       "</div>"
      ],
      "text/plain": [
       "                Name  Degree  In Degree  Out Degree  Closeness  Betweenness\n",
       "546               EX    1483   0.369727    0.366253   0.000496     0.000000\n",
       "7     James Sullivan    1395   0.232754    0.459553   0.082811     0.012257\n",
       "9        Andrew King     415   0.189578    0.016377   0.074087     0.000877\n",
       "4    Thomas Eberhard     482   0.188089    0.051117   0.077013     0.011014\n",
       "171       Tim Murphy     655   0.186104    0.138958   0.076600     0.018258\n",
       "10         Jim Bauer     452   0.179156    0.045161   0.071020     0.001758\n",
       "14     Scott Cecilio     570   0.167246    0.115633   0.072583     0.007720\n",
       "8           John Fry     467   0.163772    0.067990   0.072583     0.001358\n",
       "12      Nick Wiegand     326   0.160298    0.001489   0.076712     0.000000\n",
       "731      Tyson Quink     490   0.134988    0.108189   0.072338     0.000842"
      ]
     },
     "execution_count": 22,
     "metadata": {},
     "output_type": "execute_result"
    }
   ],
   "source": [
    "email_connectivity_df.sort_values('In Degree',ascending=False).head(10)"
   ]
  },
  {
   "cell_type": "code",
   "execution_count": 23,
   "metadata": {},
   "outputs": [
    {
     "data": {
      "image/png": "[encoded data removed]",
      "text/plain": [
       "<Figure size 432x288 with 1 Axes>"
      ]
     },
     "metadata": {},
     "output_type": "display_data"
    }
   ],
   "source": [
    "defense_team = nx.ego_graph(G, 'James Sullivan')\n",
    "pos = nx.spring_layout(defense_team)\n",
    "nx.draw(defense_team)"
   ]
  },
  {
   "cell_type": "code",
   "execution_count": 24,
   "metadata": {},
   "outputs": [],
   "source": [
    "defense_team_dict = dict(defense_team.nodes.data())"
   ]
  },
  {
   "cell_type": "code",
   "execution_count": 25,
   "metadata": {},
   "outputs": [],
   "source": [
    "defense_team_subgraph = []\n",
    "for node in defense_team_dict.items():\n",
    "    name = node[0]\n",
    "    degree_cen = node[1]['degree']\n",
    "    in_degree_cen = node[1]['in degree']\n",
    "    out_degree_cen = node[1]['out degree']\n",
    "    closeness_cen = node[1]['closeness']\n",
    "    betweenness = node[1]['betweenness']\n",
    "    iRow = [name, degree_cen, in_degree_cen, out_degree_cen, closeness_cen, betweenness]\n",
    "    defense_team_subgraph.append(iRow)\n",
    "    \n",
    "defense_team_df = pd.DataFrame(defense_team_subgraph, columns=['Name', 'Degree', 'In Degree', 'Out Degree', 'Closeness', 'Betweenness'])\n"
   ]
  },
  {
   "cell_type": "code",
   "execution_count": 29,
   "metadata": {},
   "outputs": [
    {
     "data": {
      "text/html": [
       "<div>\n",
       "<style scoped>\n",
       "    .dataframe tbody tr th:only-of-type {\n",
       "        vertical-align: middle;\n",
       "    }\n",
       "\n",
       "    .dataframe tbody tr th {\n",
       "        vertical-align: top;\n",
       "    }\n",
       "\n",
       "    .dataframe thead th {\n",
       "        text-align: right;\n",
       "    }\n",
       "</style>\n",
       "<table border=\"1\" class=\"dataframe\">\n",
       "  <thead>\n",
       "    <tr style=\"text-align: right;\">\n",
       "      <th></th>\n",
       "      <th>Name</th>\n",
       "      <th>Degree</th>\n",
       "      <th>In Degree</th>\n",
       "      <th>Out Degree</th>\n",
       "      <th>Closeness</th>\n",
       "      <th>Betweenness</th>\n",
       "    </tr>\n",
       "  </thead>\n",
       "  <tbody>\n",
       "    <tr>\n",
       "      <th>83</th>\n",
       "      <td>Tim Murphy</td>\n",
       "      <td>655</td>\n",
       "      <td>0.186104</td>\n",
       "      <td>0.138958</td>\n",
       "      <td>0.076600</td>\n",
       "      <td>0.018258</td>\n",
       "    </tr>\n",
       "    <tr>\n",
       "      <th>55</th>\n",
       "      <td>Jeffrey Dawley</td>\n",
       "      <td>666</td>\n",
       "      <td>0.072953</td>\n",
       "      <td>0.257568</td>\n",
       "      <td>0.066921</td>\n",
       "      <td>0.013360</td>\n",
       "    </tr>\n",
       "    <tr>\n",
       "      <th>57</th>\n",
       "      <td>James Sullivan</td>\n",
       "      <td>1395</td>\n",
       "      <td>0.232754</td>\n",
       "      <td>0.459553</td>\n",
       "      <td>0.082811</td>\n",
       "      <td>0.012257</td>\n",
       "    </tr>\n",
       "    <tr>\n",
       "      <th>54</th>\n",
       "      <td>Eben Wells</td>\n",
       "      <td>1939</td>\n",
       "      <td>0.067990</td>\n",
       "      <td>0.894293</td>\n",
       "      <td>0.062259</td>\n",
       "      <td>0.011666</td>\n",
       "    </tr>\n",
       "    <tr>\n",
       "      <th>6</th>\n",
       "      <td>Thomas Eberhard</td>\n",
       "      <td>482</td>\n",
       "      <td>0.188089</td>\n",
       "      <td>0.051117</td>\n",
       "      <td>0.077013</td>\n",
       "      <td>0.011014</td>\n",
       "    </tr>\n",
       "  </tbody>\n",
       "</table>\n",
       "</div>"
      ],
      "text/plain": [
       "               Name  Degree  In Degree  Out Degree  Closeness  Betweenness\n",
       "83       Tim Murphy     655   0.186104    0.138958   0.076600     0.018258\n",
       "55   Jeffrey Dawley     666   0.072953    0.257568   0.066921     0.013360\n",
       "57   James Sullivan    1395   0.232754    0.459553   0.082811     0.012257\n",
       "54       Eben Wells    1939   0.067990    0.894293   0.062259     0.011666\n",
       "6   Thomas Eberhard     482   0.188089    0.051117   0.077013     0.011014"
      ]
     },
     "execution_count": 29,
     "metadata": {},
     "output_type": "execute_result"
    }
   ],
   "source": [
    "defense_team_df.sort_values('Betweenness',ascending=False).head()"
   ]
  },
  {
   "cell_type": "code",
   "execution_count": null,
   "metadata": {},
   "outputs": [],
   "source": []
  }
 ],
 "metadata": {
  "kernelspec": {
   "display_name": "Python 3",
   "language": "python",
   "name": "python3"
  },
  "language_info": {
   "codemirror_mode": {
    "name": "ipython",
    "version": 3
   },
   "file_extension": ".py",
   "mimetype": "text/x-python",
   "name": "python",
   "nbconvert_exporter": "python",
   "pygments_lexer": "ipython3",
   "version": "3.6.7"
  }
 },
 "nbformat": 4,
 "nbformat_minor": 2
}
